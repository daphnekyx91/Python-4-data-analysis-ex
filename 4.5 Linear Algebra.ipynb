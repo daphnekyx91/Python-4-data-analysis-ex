{
 "cells": [
  {
   "cell_type": "markdown",
   "metadata": {},
   "source": [
    "- Linear algebra have matrix multiplication ...etc\n",
    "- function work at element-wise basis"
   ]
  },
  {
   "cell_type": "code",
   "execution_count": 1,
   "metadata": {},
   "outputs": [],
   "source": [
    "import numpy as np\n",
    "\n",
    "x = np.array([[1., 2., 3. ], [ 4., 5., 6.]])\n",
    "\n",
    "y = np.array([[6., 23.], [-1, 7], [8, 9]])"
   ]
  },
  {
   "cell_type": "code",
   "execution_count": 2,
   "metadata": {},
   "outputs": [
    {
     "data": {
      "text/plain": [
       "array([[1., 2., 3.],\n",
       "       [4., 5., 6.]])"
      ]
     },
     "execution_count": 2,
     "metadata": {},
     "output_type": "execute_result"
    }
   ],
   "source": [
    "x"
   ]
  },
  {
   "cell_type": "code",
   "execution_count": 3,
   "metadata": {},
   "outputs": [
    {
     "data": {
      "text/plain": [
       "array([[ 6., 23.],\n",
       "       [-1.,  7.],\n",
       "       [ 8.,  9.]])"
      ]
     },
     "execution_count": 3,
     "metadata": {},
     "output_type": "execute_result"
    }
   ],
   "source": [
    "y"
   ]
  },
  {
   "cell_type": "code",
   "execution_count": 5,
   "metadata": {
    "scrolled": true
   },
   "outputs": [
    {
     "data": {
      "text/plain": [
       "array([[ 28.,  64.],\n",
       "       [ 67., 181.]])"
      ]
     },
     "execution_count": 5,
     "metadata": {},
     "output_type": "execute_result"
    }
   ],
   "source": [
    "#multiplication between matrix\n",
    "\n",
    "# x.dot(y) is equivalent to np.dot(x, y)\n",
    "x.dot(y)"
   ]
  },
  {
   "cell_type": "code",
   "execution_count": 7,
   "metadata": {},
   "outputs": [
    {
     "data": {
      "text/plain": [
       "array([ 6., 15.])"
      ]
     },
     "execution_count": 7,
     "metadata": {},
     "output_type": "execute_result"
    }
   ],
   "source": [
    "#matrix product between 2-d array & 1-d array results in 1-d array\n",
    "\n",
    "np.dot(x, np.ones(3))"
   ]
  },
  {
   "cell_type": "code",
   "execution_count": 4,
   "metadata": {},
   "outputs": [
    {
     "data": {
      "text/plain": [
       "array([ 6., 15.])"
      ]
     },
     "execution_count": 4,
     "metadata": {},
     "output_type": "execute_result"
    }
   ],
   "source": [
    "# @ acts as infix operator that performs matrix multiplication\n",
    "\n",
    "x @ np.ones(3)"
   ]
  },
  {
   "cell_type": "code",
   "execution_count": 5,
   "metadata": {},
   "outputs": [
    {
     "data": {
      "text/plain": [
       "array([[ 0.89501692,  0.64533845,  0.39721367,  0.22719829,  0.13609919],\n",
       "       [ 0.64533845,  1.28525461,  0.03898148, -0.03595251,  0.3318396 ],\n",
       "       [ 0.39721367,  0.03898148,  0.9090585 ,  0.33200699, -0.12977829],\n",
       "       [ 0.22719829, -0.03595251,  0.33200699,  0.2330168 , -0.05814339],\n",
       "       [ 0.13609919,  0.3318396 , -0.12977829, -0.05814339,  0.22821096]])"
      ]
     },
     "execution_count": 5,
     "metadata": {},
     "output_type": "execute_result"
    }
   ],
   "source": [
    "# numpy.linalg has a standard set of matrix decompositions \n",
    "# like inverse and determinant\n",
    "\n",
    "from numpy.linalg import inv, qr\n",
    "\n",
    "X = np.random.randn(5, 5)\n",
    "\n",
    "\n",
    "#computes dot product of X with transpose of T X.T.\n",
    "mat = X.T.dot(X)\n",
    "inv(mat)"
   ]
  },
  {
   "cell_type": "code",
   "execution_count": 6,
   "metadata": {},
   "outputs": [
    {
     "data": {
      "text/plain": [
       "array([[ 1.00000000e+00,  6.83952088e-17, -1.05104801e-16,\n",
       "        -3.70151930e-17,  3.94373707e-17],\n",
       "       [ 5.40961138e-17,  1.00000000e+00,  5.74995882e-17,\n",
       "         4.48819529e-17, -1.77401581e-16],\n",
       "       [ 3.76575459e-17, -3.98915415e-17,  1.00000000e+00,\n",
       "        -2.71958897e-16,  9.96267016e-17],\n",
       "       [ 1.49970509e-17, -1.63411158e-17, -1.14520474e-16,\n",
       "         1.00000000e+00,  1.65972014e-16],\n",
       "       [ 6.19861607e-17, -7.53396349e-17,  3.04910405e-16,\n",
       "        -2.35598685e-17,  1.00000000e+00]])"
      ]
     },
     "execution_count": 6,
     "metadata": {},
     "output_type": "execute_result"
    }
   ],
   "source": [
    "mat.dot(inv(mat))"
   ]
  },
  {
   "cell_type": "code",
   "execution_count": 7,
   "metadata": {},
   "outputs": [],
   "source": [
    "q, r = qr(mat)"
   ]
  },
  {
   "cell_type": "code",
   "execution_count": 8,
   "metadata": {
    "scrolled": true
   },
   "outputs": [
    {
     "data": {
      "text/plain": [
       "array([[-4.87585992,  2.66219188, -1.55405079, 10.53278351,  1.45235374],\n",
       "       [ 0.        , -2.63256426,  2.12512776, -1.63375839,  8.33403042],\n",
       "       [ 0.        ,  0.        , -3.37021292,  7.29835322,  0.17367243],\n",
       "       [ 0.        ,  0.        ,  0.        , -2.19307913, -0.55566564],\n",
       "       [ 0.        ,  0.        ,  0.        ,  0.        ,  2.23081052]])"
      ]
     },
     "execution_count": 8,
     "metadata": {},
     "output_type": "execute_result"
    }
   ],
   "source": [
    "r"
   ]
  },
  {
   "cell_type": "code",
   "execution_count": 9,
   "metadata": {
    "scrolled": true
   },
   "outputs": [
    {
     "data": {
      "text/plain": [
       "array([[-6.72558077e-01, -9.16974605e-02,  3.43115361e-01,\n",
       "        -5.73889460e-01,  3.03611504e-01],\n",
       "       [ 3.17703793e-01, -4.76375682e-01, -3.36138614e-01,\n",
       "        -1.05545168e-01,  7.40271274e-01],\n",
       "       [ 6.27686666e-02,  2.05248760e-01, -6.63155300e-01,\n",
       "        -6.56004269e-01, -2.89510774e-01],\n",
       "       [ 6.50415533e-01, -6.50573519e-02,  5.71606763e-01,\n",
       "        -4.78716000e-01, -1.29706881e-01],\n",
       "       [ 1.40533487e-01,  8.47524792e-01,  5.26634401e-02,\n",
       "         7.04062118e-04,  5.09095406e-01]])"
      ]
     },
     "execution_count": 9,
     "metadata": {},
     "output_type": "execute_result"
    }
   ],
   "source": [
    "q"
   ]
  },
  {
   "cell_type": "code",
   "execution_count": null,
   "metadata": {},
   "outputs": [],
   "source": []
  }
 ],
 "metadata": {
  "kernelspec": {
   "display_name": "Python 3",
   "language": "python",
   "name": "python3"
  },
  "language_info": {
   "codemirror_mode": {
    "name": "ipython",
    "version": 3
   },
   "file_extension": ".py",
   "mimetype": "text/x-python",
   "name": "python",
   "nbconvert_exporter": "python",
   "pygments_lexer": "ipython3",
   "version": "3.7.6"
  }
 },
 "nbformat": 4,
 "nbformat_minor": 4
}
